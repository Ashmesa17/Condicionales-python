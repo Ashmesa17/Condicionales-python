{
  "nbformat": 4,
  "nbformat_minor": 0,
  "metadata": {
    "colab": {
      "provenance": [],
      "authorship_tag": "ABX9TyNmFF9Ti4dbBe2HCEOqxRM4",
      "include_colab_link": true
    },
    "kernelspec": {
      "name": "python3",
      "display_name": "Python 3"
    },
    "language_info": {
      "name": "python"
    }
  },
  "cells": [
    {
      "cell_type": "markdown",
      "metadata": {
        "id": "view-in-github",
        "colab_type": "text"
      },
      "source": [
        "<a href=\"https://colab.research.google.com/github/Ashmesa17/Condicionales-python/blob/main/condicionales.ipynb\" target=\"_parent\"><img src=\"https://colab.research.google.com/assets/colab-badge.svg\" alt=\"Open In Colab\"/></a>"
      ]
    },
    {
      "cell_type": "code",
      "execution_count": null,
      "metadata": {
        "id": "5erfQuTMWjXY",
        "colab": {
          "base_uri": "https://localhost:8080/"
        },
        "outputId": "fa9c256c-2625-4cb8-96d3-a51d97ef900b"
      },
      "outputs": [
        {
          "output_type": "stream",
          "name": "stdout",
          "text": [
            "Enter a number: -5\n",
            "El numero es : -5 Positivo : 5\n"
          ]
        }
      ],
      "source": [
        "number = int(input(\"Enter a number: \"))\n",
        "\n",
        "if number < 0:\n",
        "  print(\"El numero es :\", number, \"Positivo :\", number * -1)\n",
        "else:\n",
        "  print(\"El numero es : \",  number)\n",
        "\n"
      ]
    },
    {
      "cell_type": "code",
      "source": [
        "nombre = input(\"Ingrese el nombre del estudiante: \")\n",
        "nota = float(input(\"Ingrese la nota del estudiante: \"))\n",
        "\n",
        "if nota < 3:\n",
        "  print(\"El estudiante no aprobo\")\n",
        "elif nota >5:\n",
        "  print(\"Valor incorrecto\")\n",
        "else:\n",
        "  print(\"Valor incorrecto\")"
      ],
      "metadata": {
        "id": "YwcAv_GSXwKH"
      },
      "execution_count": null,
      "outputs": []
    },
    {
      "cell_type": "code",
      "source": [
        "sueldo = float(input(\"Ingrese el sueldo del empleado: \"))\n",
        "\n",
        "if sueldo <= 300000:\n",
        "  print(\"Sueldo tiene un aumendo del 15% :\", sueldo + (sueldo * 0.15))\n",
        "else:\n",
        "  print(\"Su sueldo es : \", sueldo)"
      ],
      "metadata": {
        "id": "EXltsloOYcEs"
      },
      "execution_count": null,
      "outputs": []
    },
    {
      "cell_type": "code",
      "source": [
        "categoria1 = \"Administrador\"\n",
        "categoria2 = \"Gerente\"\n",
        "categoria3 = \"Supervisor\"\n",
        "categoria4 = \"Empleado\"\n",
        "categoria5 = \"Vendedor\"\n",
        "\n",
        "categorias = {\n",
        "    categoria1.lower(): (categoria1, 5000000),\n",
        "    categoria2.lower(): (categoria2, 4000000),\n",
        "    categoria3.lower(): (categoria3, 3000000),\n",
        "    categoria4.lower(): (categoria4, 2500000),\n",
        "    categoria5.lower(): (categoria5, 1500000),\n",
        "}\n",
        "\n",
        "empleadoCategoria = input(\"Ingrese la categoría del empleado: \").strip().lower()\n",
        "\n",
        "if empleadoCategoria in categorias:\n",
        "    nombre_categoria, sueldo = categorias[empleadoCategoria]\n",
        "    print(nombre_categoria, \"se le dará un sueldo de $\", sueldo)\n",
        "else:\n",
        "    print(\"Categoría no válida\")\n"
      ],
      "metadata": {
        "id": "vLAOas_4Ztup"
      },
      "execution_count": null,
      "outputs": []
    },
    {
      "cell_type": "code",
      "source": [
        "num1 = int(input(\"Ingrese el primer número: \"))\n",
        "num2 = int(input(\"Ingrese el segundo número: \"))\n",
        "num3 = int(input(\"Ingrese el tercer número: \"))\n",
        "\n",
        "if num1 >= num2 and num1 >= num3:\n",
        "    mayor = num1\n",
        "elif num2 >= num1 and num2 >= num3:\n",
        "    mayor = num2\n",
        "else:\n",
        "    mayor = num3\n",
        "\n",
        "if num1 <= num2 and num1 <= num3:\n",
        "    menor = num1\n",
        "elif num2 <= num1 and num2 <= num3:\n",
        "    menor = num2\n",
        "else:\n",
        "    menor = num3\n",
        "\n",
        "if num1 == num2 == num3:\n",
        "    mensaje = \"Los tres números son iguales.\"\n",
        "elif num1 != num2 and num1 != num3 and num2 != num3:\n",
        "    mensaje = \"Los tres números son diferentes.\"\n",
        "else:\n",
        "    mensaje = \"Hay al menos dos números iguales.\"\n",
        "\n",
        "print(\"El número mayor es: \", mayor)\n",
        "print(\"El número menor es: \", menor)\n",
        "print(mensaje)\n"
      ],
      "metadata": {
        "id": "L6tKyMavcobL"
      },
      "execution_count": null,
      "outputs": []
    },
    {
      "cell_type": "code",
      "source": [
        "entrada = input(\"Ingrese un valor: \")\n",
        "\n",
        "if entrada.isdigit() or (entrada[0] == \"-\" and entrada[1:].isdigit()):\n",
        "    print(int(entrada), \"°C = \", int(entrada) + 273.15, \"K\")\n",
        "elif entrada.replace(\".\", \"\", 1).lstrip(\"-\").isdigit():\n",
        "    print(\"Mayor a 10.5\" if float(entrada) > 10.5 else \"No es mayor a 10.5\")\n",
        "elif len(entrada) == 1 and entrada.isalpha():\n",
        "    print(\"Hola,\" ,input('Ingrese su nombre: '))\n",
        "else:\n",
        "    print(\"Entrada no válida.\")\n"
      ],
      "metadata": {
        "id": "bQsfkrVnWsIA"
      },
      "execution_count": null,
      "outputs": []
    },
    {
      "cell_type": "code",
      "source": [
        "num1 = int(input(\"Ingrese el primer número: \"))\n",
        "num2 = int(input(\"Ingrese el segundo número: \"))\n",
        "num3 = int(input(\"Ingrese el tercer número: \"))\n",
        "\n",
        "if (num1 > num2 and num1 < num3) or (num1 < num2 and num1 > num3):\n",
        "    print(num1, \"es el número medio\")\n",
        "elif (num2 > num1 and num2 < num3) or (num2 < num1 and num2 > num3):\n",
        "    print(num2, \"es el número medio\")\n",
        "else:\n",
        "    print(num3, \"es el número medio\")\n"
      ],
      "metadata": {
        "id": "12U4YT32RCR_"
      },
      "execution_count": null,
      "outputs": []
    },
    {
      "cell_type": "code",
      "source": [
        "nombre = input(\"Ingrese el nombre: \").strip()\n",
        "if not nombre.isalpha():\n",
        "    print(\"Error: Ingrese un nombre válido (solo letras).\")\n",
        "else:\n",
        "    try:\n",
        "        edad = int(input(\"Ingrese la edad: \"))\n",
        "        if edad < 1 or edad > 119:\n",
        "            print(\"Error: La edad debe estar entre 1 y 119.\")\n",
        "        else:\n",
        "            sexo = input(\"Ingrese el sexo (M/F): \").strip().upper()\n",
        "            if sexo != \"M\" and sexo != \"F\":\n",
        "                print(\"Error: Ingrese 'M' o 'F'.\")\n",
        "            else:\n",
        "                estado_civil = input(\"Ingrese el estado civil (Soltero/Casado): \").strip().lower()\n",
        "                if estado_civil != \"soltero\" and estado_civil != \"casado\":\n",
        "                    print(\"Error: Ingrese 'Soltero' o 'Casado'.\")\n",
        "                else:\n",
        "                    if (sexo == 'M' and estado_civil == 'casado' and edad > 40) or (sexo == 'F' and estado_civil == 'soltero' and edad < 50):\n",
        "                        print(nombre, \" cumple con la condición.\")\n",
        "                    else:\n",
        "                        print(\" No cumple con los criterios especificados.\")\n",
        "\n"
      ],
      "metadata": {
        "id": "Cir1fREEI-gH"
      },
      "execution_count": null,
      "outputs": []
    },
    {
      "cell_type": "code",
      "source": [
        "num1 = int(input(\"Ingrese el primer número: \"))\n",
        "num2 = int(input(\"Ingrese el segundo número: \"))\n",
        "num3 = int(input(\"Ingrese el tercer número: \"))\n",
        "\n",
        "\n",
        "if num1 != num2 and num1 != num3 and num2 != num3:\n",
        "\n",
        "    numeros_ordenados = sorted([num1, num2, num3], reverse=True)\n",
        "\n",
        "    print(\"Números ordenados de mayor a menor: \", numeros_ordenados[0], numeros_ordenados[1], numeros_ordenados[2])\n",
        "else:\n",
        "    print(\"Los números deben ser únicos.\")\n"
      ],
      "metadata": {
        "id": "Loy0qSMAJc2C"
      },
      "execution_count": null,
      "outputs": []
    },
    {
      "cell_type": "code",
      "source": [
        "\n",
        "    nota1 = float(input(\"Ingrese la primera calificación: \"))\n",
        "    nota2 = float(input(\"Ingrese la segunda calificación: \"))\n",
        "    nota3 = float(input(\"Ingrese la tercera calificación: \"))\n",
        "\n",
        "    if 1 <= nota1 <= 5 and 1 <= nota2 <= 5 and 1 <= nota3 <= 5:\n",
        "        notas_ordenadas = sorted([nota1, nota2, nota3], reverse=True)\n",
        "        promedio_final = (notas_ordenadas[0] + notas_ordenadas[1]) / 2\n",
        "        print(\"La calificación final es:\", promedio_final)\n",
        "    else:\n",
        "      print(\"Error: las calificaciones deben ser de 1 a 5\")"
      ],
      "metadata": {
        "id": "tuIPJNsKKWPp"
      },
      "execution_count": null,
      "outputs": []
    },
    {
      "cell_type": "code",
      "source": [
        "longitud = float(input(\"Ingrese la longitud de la pieza en cm: \"))\n",
        "diametro = float(input(\"Ingrese el diámetro de la pieza en cm: \"))\n",
        "\n",
        "densidad = 3.5\n",
        "masa = (diametro * longitud) / densidad\n",
        "\n",
        "if 7.5 < longitud <= 9 and 0.5 <= diametro <= 1.3 and masa <= 5.8:\n",
        "    print(\"La pieza es aceptada.\")\n",
        "else:\n",
        "    print(\"La pieza es rechazada.\")\n"
      ],
      "metadata": {
        "id": "9vYM__2oMXoz"
      },
      "execution_count": null,
      "outputs": []
    },
    {
      "cell_type": "code",
      "source": [
        "import random\n",
        "\n",
        "comision_total = 0\n",
        "ventas_menores = 0\n",
        "ventas_mayores = 0\n",
        "\n",
        "# Generar automáticamente 50 precios entre 500 y 5000\n",
        "precios = [random.randint(500, 5000) for _ in range(50)]\n",
        "print(\"Precios generados:\", precios)\n",
        "\n",
        "for precio in precios:\n",
        "    if precio < 2000:\n",
        "        comision_total += precio * 0.03\n",
        "        ventas_menores += 1\n",
        "    else:\n",
        "        comision_total += precio * 0.05\n",
        "        ventas_mayores += 1\n",
        "\n",
        "print(\"Comisión total del vendedor: $ \",comision_total)\n",
        "print(\"Ventas menores de $2000: \", ventas_menores)\n",
        "print(\"Ventas de $2000 o más:\" ,ventas_mayores)\n",
        "\n"
      ],
      "metadata": {
        "id": "iXWjWpReZglL"
      },
      "execution_count": null,
      "outputs": []
    },
    {
      "cell_type": "code",
      "source": [
        "nota1 = input(\"Ingrese la primera evidencia aprobada o no aprobada (A/N): \").strip().upper()\n",
        "nota2 = input(\"Ingrese la segunda evidencia aprobada o no aprobada (A/N): \").strip().upper()\n",
        "nota3 = input(\"Ingrese la tercera evidencia aprobada o no aprobada (A/N): \").strip().upper()\n",
        "nota4 = input(\"Ingrese la cuarta evidencia aprobada o no aprobada (A/N): \").strip().upper()\n",
        "\n",
        "# Validar que todas las notas sean \"A\" o \"N\"\n",
        "if (nota1 not in [\"A\", \"N\"] or\n",
        "    nota2 not in [\"A\", \"N\"] or\n",
        "    nota3 not in [\"A\", \"N\"] or\n",
        "    nota4 not in [\"A\", \"N\"]):\n",
        "    print(\"Datos no válidos. Solo se permite ingresar 'A' o 'N'.\")\n",
        "else:\n",
        "    cantidad_A = [nota1, nota2, nota3, nota4].count(\"A\")\n",
        "\n",
        "    if cantidad_A >= 3:\n",
        "        print(\"Aprobado\")\n",
        "    else:\n",
        "        print(\"Reprobado\")\n",
        "\n",
        "\n"
      ],
      "metadata": {
        "id": "uhIZH7N1URUJ"
      },
      "execution_count": null,
      "outputs": []
    },
    {
      "cell_type": "code",
      "source": [
        "n = int(input(\"Ingrese un número: \"))\n",
        "\n",
        "if n != 0:\n",
        "    resultado = 1 / n\n",
        "    print(\"El resultado de 1/\",n, \"es:\", resultado)\n",
        "else:\n",
        "    print(\"No se puede dividir por cero.\")"
      ],
      "metadata": {
        "id": "dCkBVuKGMmJK"
      },
      "execution_count": null,
      "outputs": []
    },
    {
      "cell_type": "code",
      "source": [
        "import math\n",
        "\n",
        "a = float(input(\"Ingrese el coeficiente a: \"))\n",
        "b = float(input(\"Ingrese el coeficiente b: \"))\n",
        "c = float(input(\"Ingrese el coeficiente c: \"))\n",
        "\n",
        "discriminante = b**2 - 4*a*c\n",
        "\n",
        "if discriminante > 0:\n",
        "    x1 = (-b + math.sqrt(discriminante)) / (2 * a)\n",
        "    x2 = (-b - math.sqrt(discriminante)) / (2 * a)\n",
        "    print(f\"Dos soluciones reales: x1 = {x1:.2f}, x2 = {x2:.2f}\")\n",
        "elif discriminante == 0:\n",
        "    x = -b / (2 * a)\n",
        "    print(\"Una única solución real: x = \",x)\n",
        "else:\n",
        "    print(\"No hay soluciones reales, el resultado es un número complejo.\")\n"
      ],
      "metadata": {
        "id": "l5f8XKSJcq9Z"
      },
      "execution_count": null,
      "outputs": []
    },
    {
      "cell_type": "code",
      "source": [
        "numero = int(input(\"Ingrese un número: \"))\n",
        "\n",
        "if numero % 2 == 0:\n",
        "    print(\"El número \",numero, \" es par.\")\n",
        "else:\n",
        "    print(\"El número \", numero ,\"es impar.\")"
      ],
      "metadata": {
        "id": "u47qedh0PHgH"
      },
      "execution_count": null,
      "outputs": []
    },
    {
      "cell_type": "code",
      "source": [
        "num1 = int(input(\"Ingrese el primer número: \"))\n",
        "num2 = int(input(\"Ingrese el segundo número: \"))\n",
        "num3 = int(input(\"Ingrese el tercer número: \"))\n",
        "\n",
        "if num1 % num2 == 0:\n",
        "    print(num1, \"es divisible por\", num2)\n",
        "if num1 % num3 == 0:\n",
        "    print(num1, \"es divisible por\", num3)\n",
        "if num2 % num1 == 0:\n",
        "    print(num2, \"es divisible por\", num1)\n",
        "if num2 % num3 == 0:\n",
        "    print(num2, \"es divisible por\", num3)\n",
        "if num3 % num1 == 0:\n",
        "    print(num3, \"es divisible por\", num1)\n",
        "if num3 % num2 == 0:\n",
        "    print(num3, \"es divisible por\", num2)\n",
        "\n",
        "if (num1 % num2 != 0 and num1 % num3 != 0 and num2 % num1 != 0 and\n",
        "    num2 % num3 != 0 and num3 % num1 != 0 and num3 % num2 != 0):\n",
        "    print(\"Ningún número es divisible por otro.\")"
      ],
      "metadata": {
        "id": "zcoXOjhFQYxq"
      },
      "execution_count": null,
      "outputs": []
    },
    {
      "cell_type": "code",
      "source": [
        "num = int(input(\"Ingrese un número: \"))\n",
        "\n",
        "if num > 0:\n",
        "    print(num, \"es positivo\")\n",
        "elif num < 0:\n",
        "    print(num, \"es negativo\")\n",
        "else:\n",
        "    print(num, \"es cero\")"
      ],
      "metadata": {
        "id": "HM02fVp6QnIn"
      },
      "execution_count": null,
      "outputs": []
    }
  ]
}